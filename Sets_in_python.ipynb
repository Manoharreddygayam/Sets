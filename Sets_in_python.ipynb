{
  "nbformat": 4,
  "nbformat_minor": 0,
  "metadata": {
    "colab": {
      "provenance": []
    },
    "kernelspec": {
      "name": "python3",
      "display_name": "Python 3"
    },
    "language_info": {
      "name": "python"
    }
  },
  "cells": [
    {
      "cell_type": "markdown",
      "source": [
        "# Sets #\n",
        "##-> set is unordered collection of different data type elements\n",
        "##-> It is define with { }\n",
        "##-> set is immutable\n",
        "##-> set is not index based\n",
        "##-> sets contains only unique hashable value"
      ],
      "metadata": {
        "id": "3gUcR5THw_L-"
      }
    },
    {
      "cell_type": "code",
      "execution_count": 1,
      "metadata": {
        "colab": {
          "base_uri": "https://localhost:8080/"
        },
        "id": "zs6yVwPJwyTd",
        "outputId": "824a2ca2-fb01-4256-909b-6b0b8b09ec2d"
      },
      "outputs": [
        {
          "output_type": "stream",
          "name": "stdout",
          "text": [
            "{1, 2, 3, 'A', 5.2, 'codegnan'}\n"
          ]
        }
      ],
      "source": [
        "#example\n",
        "s={1,2,3,'codegnan','A',5.2}\n",
        "print(s)"
      ]
    },
    {
      "cell_type": "code",
      "source": [
        "#creating empty set and type\n",
        "s1={}\n",
        "s2=set()\n",
        "print(type(s1),type(s2))"
      ],
      "metadata": {
        "colab": {
          "base_uri": "https://localhost:8080/"
        },
        "id": "x8ZDBPOhxq2S",
        "outputId": "2921ab6f-4857-4113-ff19-44924c00fb2f"
      },
      "execution_count": 3,
      "outputs": [
        {
          "output_type": "stream",
          "name": "stdout",
          "text": [
            "<class 'dict'> <class 'set'>\n"
          ]
        }
      ]
    },
    {
      "cell_type": "code",
      "source": [
        "#set not allow unhashable data values\n",
        "s={1,2,3,'codegnan','A',5.2,[1,2,3]}\n",
        "print(s)\n"
      ],
      "metadata": {
        "colab": {
          "base_uri": "https://localhost:8080/",
          "height": 176
        },
        "id": "SNTh7Dw2x0uF",
        "outputId": "854fb139-49f8-4a27-a53e-747af72005ca"
      },
      "execution_count": 4,
      "outputs": [
        {
          "output_type": "error",
          "ename": "TypeError",
          "evalue": "unhashable type: 'list'",
          "traceback": [
            "\u001b[0;31m---------------------------------------------------------------------------\u001b[0m",
            "\u001b[0;31mTypeError\u001b[0m                                 Traceback (most recent call last)",
            "\u001b[0;32m/tmp/ipython-input-4-3464035060.py\u001b[0m in \u001b[0;36m<cell line: 0>\u001b[0;34m()\u001b[0m\n\u001b[1;32m      1\u001b[0m \u001b[0;31m#set not allow unhashable data values\u001b[0m\u001b[0;34m\u001b[0m\u001b[0;34m\u001b[0m\u001b[0m\n\u001b[0;32m----> 2\u001b[0;31m \u001b[0ms\u001b[0m\u001b[0;34m=\u001b[0m\u001b[0;34m{\u001b[0m\u001b[0;36m1\u001b[0m\u001b[0;34m,\u001b[0m\u001b[0;36m2\u001b[0m\u001b[0;34m,\u001b[0m\u001b[0;36m3\u001b[0m\u001b[0;34m,\u001b[0m\u001b[0;34m'codegnan'\u001b[0m\u001b[0;34m,\u001b[0m\u001b[0;34m'A'\u001b[0m\u001b[0;34m,\u001b[0m\u001b[0;36m5.2\u001b[0m\u001b[0;34m,\u001b[0m\u001b[0;34m[\u001b[0m\u001b[0;36m1\u001b[0m\u001b[0;34m,\u001b[0m\u001b[0;36m2\u001b[0m\u001b[0;34m,\u001b[0m\u001b[0;36m3\u001b[0m\u001b[0;34m]\u001b[0m\u001b[0;34m}\u001b[0m\u001b[0;34m\u001b[0m\u001b[0;34m\u001b[0m\u001b[0m\n\u001b[0m\u001b[1;32m      3\u001b[0m \u001b[0mprint\u001b[0m\u001b[0;34m(\u001b[0m\u001b[0ms\u001b[0m\u001b[0;34m)\u001b[0m\u001b[0;34m\u001b[0m\u001b[0;34m\u001b[0m\u001b[0m\n",
            "\u001b[0;31mTypeError\u001b[0m: unhashable type: 'list'"
          ]
        }
      ]
    },
    {
      "cell_type": "code",
      "source": [
        "#not index based\n",
        "s={1,2,3,'codegnan','A',5.2}\n",
        "print(s[0])"
      ],
      "metadata": {
        "colab": {
          "base_uri": "https://localhost:8080/",
          "height": 176
        },
        "id": "-2cRe3NlyHhr",
        "outputId": "21e3d762-552f-462f-edec-2600c8835087"
      },
      "execution_count": 5,
      "outputs": [
        {
          "output_type": "error",
          "ename": "TypeError",
          "evalue": "'set' object is not subscriptable",
          "traceback": [
            "\u001b[0;31m---------------------------------------------------------------------------\u001b[0m",
            "\u001b[0;31mTypeError\u001b[0m                                 Traceback (most recent call last)",
            "\u001b[0;32m/tmp/ipython-input-5-1989199678.py\u001b[0m in \u001b[0;36m<cell line: 0>\u001b[0;34m()\u001b[0m\n\u001b[1;32m      1\u001b[0m \u001b[0;31m#not index based\u001b[0m\u001b[0;34m\u001b[0m\u001b[0;34m\u001b[0m\u001b[0m\n\u001b[1;32m      2\u001b[0m \u001b[0ms\u001b[0m\u001b[0;34m=\u001b[0m\u001b[0;34m{\u001b[0m\u001b[0;36m1\u001b[0m\u001b[0;34m,\u001b[0m\u001b[0;36m2\u001b[0m\u001b[0;34m,\u001b[0m\u001b[0;36m3\u001b[0m\u001b[0;34m,\u001b[0m\u001b[0;34m'codegnan'\u001b[0m\u001b[0;34m,\u001b[0m\u001b[0;34m'A'\u001b[0m\u001b[0;34m,\u001b[0m\u001b[0;36m5.2\u001b[0m\u001b[0;34m}\u001b[0m\u001b[0;34m\u001b[0m\u001b[0;34m\u001b[0m\u001b[0m\n\u001b[0;32m----> 3\u001b[0;31m \u001b[0mprint\u001b[0m\u001b[0;34m(\u001b[0m\u001b[0ms\u001b[0m\u001b[0;34m[\u001b[0m\u001b[0;36m0\u001b[0m\u001b[0;34m]\u001b[0m\u001b[0;34m)\u001b[0m\u001b[0;34m\u001b[0m\u001b[0;34m\u001b[0m\u001b[0m\n\u001b[0m",
            "\u001b[0;31mTypeError\u001b[0m: 'set' object is not subscriptable"
          ]
        }
      ]
    },
    {
      "cell_type": "code",
      "source": [
        "#set allows unique values\n",
        "s={1,2,3,4,6,3,2}\n",
        "print(s)"
      ],
      "metadata": {
        "colab": {
          "base_uri": "https://localhost:8080/"
        },
        "id": "Pz7WV_KmyOoo",
        "outputId": "cac48b1c-1ade-4f37-b152-f852a37ad59f"
      },
      "execution_count": 6,
      "outputs": [
        {
          "output_type": "stream",
          "name": "stdout",
          "text": [
            "{1, 2, 3, 4, 6}\n"
          ]
        }
      ]
    },
    {
      "cell_type": "code",
      "source": [
        "#read set of integers from user\n",
        "s=set(map(int,input().split()))\n",
        "print(s)"
      ],
      "metadata": {
        "colab": {
          "base_uri": "https://localhost:8080/"
        },
        "id": "XKHt33o1yaHa",
        "outputId": "495d8724-d5be-4f60-f6cb-5bd71c176656"
      },
      "execution_count": 7,
      "outputs": [
        {
          "output_type": "stream",
          "name": "stdout",
          "text": [
            "1 2 3 4\n",
            "{1, 2, 3, 4}\n"
          ]
        }
      ]
    },
    {
      "cell_type": "code",
      "source": [
        "#read set of string from user\n",
        "s=set(map(str,input().split()))\n",
        "print(s)\n"
      ],
      "metadata": {
        "colab": {
          "base_uri": "https://localhost:8080/"
        },
        "id": "bkXRGVWpymU_",
        "outputId": "9ecb3da2-098f-4946-a612-11c6e7a628b3"
      },
      "execution_count": 9,
      "outputs": [
        {
          "output_type": "stream",
          "name": "stdout",
          "text": [
            "1 2 1 2 a b a b\n",
            "{'a', '2', '1', 'b'}\n"
          ]
        }
      ]
    },
    {
      "cell_type": "markdown",
      "source": [
        "# Sets operations #\n",
        "## 1. Union\n",
        "## 2. Intersection\n",
        "## 3. Difference\n",
        "## 4. Symmetric difference\n",
        "## 5. Subset\n",
        "## 6. Superset\n",
        "## 7. Disjoint set"
      ],
      "metadata": {
        "id": "ophD5-IUzD7C"
      }
    },
    {
      "cell_type": "markdown",
      "source": [
        "## union- elements from either A or B or all elements from A and B without repetation\n",
        "A={1,2,3,6}\n",
        "B={3,4,5,6}\n",
        "(A u B)={1,2,3,4,5,6}"
      ],
      "metadata": {
        "id": "AbWurFx1z81l"
      }
    },
    {
      "cell_type": "markdown",
      "source": [
        "## Intersection- common elements from A and B\n",
        "A={1,2,3,4}\n",
        "B={2,4,5,6}\n",
        "A n B={2,4}"
      ],
      "metadata": {
        "id": "lkc-Ka_k0ccV"
      }
    },
    {
      "cell_type": "markdown",
      "source": [
        "## Difference ##\n",
        "A={1,2,3,4}\n",
        "B={3,4,5,6}\n",
        "A-B={1,2}\n",
        "B-A={5,6}\n"
      ],
      "metadata": {
        "id": "6XF6Jmx605Oi"
      }
    },
    {
      "cell_type": "markdown",
      "source": [
        "## Symmetric Difference ##\n",
        "All elements from A and B but not from common elements\n",
        "A ^ B=(AuB)-(AnB)"
      ],
      "metadata": {
        "id": "x1wCfJhY1NMq"
      }
    },
    {
      "cell_type": "markdown",
      "source": [
        "## Subset ##\n",
        "### The all set B elements are present in set A\n",
        "###Then set B is subset of set A  "
      ],
      "metadata": {
        "id": "pJdPJ3HA1jHN"
      }
    },
    {
      "cell_type": "markdown",
      "source": [
        "## superset ##\n",
        "### In set B all elements are present in set A then set A is superset of set B\n"
      ],
      "metadata": {
        "id": "UUp60Krf15gp"
      }
    },
    {
      "cell_type": "markdown",
      "source": [
        "## Disjoint set ##\n",
        "### If there is no common elements between two sets then those two sets are disjoint sets"
      ],
      "metadata": {
        "id": "7Z-7AINM2Io1"
      }
    },
    {
      "cell_type": "markdown",
      "source": [
        "# Set methods #\n",
        "## add(ele)- adds element to set\n",
        "## update(iterable)- update the current set with new iterable elements\n",
        "## remove(ele)- removes the element from set, otherwise key error\n",
        "## disard(ele)- removes the ele from set, otherwise does nothing\n",
        "## pop()- removes the random element from set\n",
        "## clear()- removes all elements from set"
      ],
      "metadata": {
        "id": "LY8MeEE22XIP"
      }
    },
    {
      "cell_type": "code",
      "source": [
        "s={1,2,3,4}\n",
        "print(\"original set:\",s)\n",
        "s.add(100)\n",
        "print(\"after add operation:\",s)\n",
        "s.update([1,2,30])\n",
        "print(\"after update operation:\",s)\n",
        "s.remove(1)\n",
        "print(\"after remove operation:\",s)\n",
        "s.discard(2)\n",
        "print(\"after discard operation:\",s)\n",
        "s.pop()\n",
        "print(\"after pop operation:\",s)\n",
        "s.clear()\n",
        "print(\"after clear operation:\",s)"
      ],
      "metadata": {
        "colab": {
          "base_uri": "https://localhost:8080/"
        },
        "id": "dJk_36-j0X9A",
        "outputId": "2093387f-13d9-49cf-8e85-90ed1e8ec290"
      },
      "execution_count": 11,
      "outputs": [
        {
          "output_type": "stream",
          "name": "stdout",
          "text": [
            "original set: {1, 2, 3, 4}\n",
            "after add operation: {1, 2, 3, 100, 4}\n",
            "after update operation: {1, 2, 3, 100, 4, 30}\n",
            "after remove operation: {2, 3, 100, 4, 30}\n",
            "after discard operation: {3, 100, 4, 30}\n",
            "after pop operation: {100, 4, 30}\n",
            "after clear operation: set()\n"
          ]
        }
      ]
    },
    {
      "cell_type": "code",
      "source": [
        "#union(),intersection(),difference(),symmetric_difference()\n",
        "s1={1,2,3,4}\n",
        "s2={3,4,5,6}\n",
        "print(s1.union(s2))\n",
        "print(s1.intersection(s2))\n",
        "print(s1.difference(s2))\n",
        "print(s1.symmetric_difference(s2))"
      ],
      "metadata": {
        "colab": {
          "base_uri": "https://localhost:8080/"
        },
        "id": "Pr0_0MTL3hVZ",
        "outputId": "f89e17c1-2c79-4982-a9b4-e2eceaa97a32"
      },
      "execution_count": 12,
      "outputs": [
        {
          "output_type": "stream",
          "name": "stdout",
          "text": [
            "{1, 2, 3, 4, 5, 6}\n",
            "{3, 4}\n",
            "{1, 2}\n",
            "{1, 2, 5, 6}\n"
          ]
        }
      ]
    },
    {
      "cell_type": "code",
      "source": [
        "#issubset(),issuperset(),isdisjoint()\n",
        "s1={1,2,3,4,5,6}\n",
        "s2={4,6}\n",
        "print(s1.issubset(s2))\n",
        "print(s2.issubset(s1))\n",
        "print(s1.issuperset(s2))\n",
        "print(s2.issuperset(s1))\n",
        "print(s1.isdisjoint(s2))\n",
        "print(s2.isdisjoint(s1))"
      ],
      "metadata": {
        "colab": {
          "base_uri": "https://localhost:8080/"
        },
        "id": "VSze9Q704IPZ",
        "outputId": "90f7a25d-c30c-48df-bbfb-4383cb39e87b"
      },
      "execution_count": 13,
      "outputs": [
        {
          "output_type": "stream",
          "name": "stdout",
          "text": [
            "False\n",
            "True\n",
            "True\n",
            "False\n",
            "False\n",
            "False\n"
          ]
        }
      ]
    },
    {
      "cell_type": "code",
      "source": [],
      "metadata": {
        "id": "Qs9Mb3Ps4cAF"
      },
      "execution_count": null,
      "outputs": []
    }
  ]
}